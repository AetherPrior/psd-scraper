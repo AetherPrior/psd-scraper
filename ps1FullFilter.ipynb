{
 "cells": [
  {
   "cell_type": "code",
   "execution_count": null,
   "metadata": {},
   "outputs": [],
   "source": [
    "import pandas as pd \n",
    "import numpy as np\n",
    "from pandas.io.json import json_normalize\n",
    "\n",
    "## Selecting  a PS station\n",
    "Name = 'Remote'\n",
    "## Select branch filter\n",
    "branches = ['A7','Any']\n",
    "\n",
    "df = pd.read_json(r'full.json')\n",
    "df.drop(['StationId','AccomodationDesc','stipendforpg','Scholarship','CompanyId','stipend'],axis=1)"
   ]
  },
  {
   "cell_type": "code",
   "execution_count": null,
   "metadata": {},
   "outputs": [],
   "source": [
    "def matcher(x):\n",
    "    for i in branches:\n",
    "        if x.find(i):\n",
    "            return i\n",
    "        else:\n",
    "            return np.NaN\n",
    "\n",
    "df2 = df[df['Tags'].apply(matcher).notna()].dropna(axis=0)\n",
    "df2 = df2[df2['CompanyName'].str.contains(Name)]\n",
    "print(df2)"
   ]
  },
  {
   "cell_type": "code",
   "execution_count": null,
   "metadata": {},
   "outputs": [],
   "source": [
    "Projects = df2['projs']\n",
    "Project = []\n",
    "for i in Projects.tolist():\n",
    "    for j in i:\n",
    "        Project.append(j['details'])\n",
    "print(Project)"
   ]
  },
  {
   "cell_type": "code",
   "execution_count": null,
   "metadata": {},
   "outputs": [],
   "source": [
    "gen = [json_normalize(j).loc[:,['ProjectId','TotalReqdStudents','projectTitle','PBDescription']] for j in Project]\n",
    "##stuff highly customized here, you'll need to recode\n",
    "gen = [j[0]['PBDescription'] for j in Project]\n",
    "print(gen)\n",
    "\n",
    "#deets = [json_normalize(j).loc[:,'PBDescription'].tolist() for j in Project] ##may not work\n",
    "\n",
    "#print(deets)"
   ]
  }
 ],
 "metadata": {
  "kernelspec": {
   "display_name": "Python 3",
   "language": "python",
   "name": "python3"
  },
  "language_info": {
   "codemirror_mode": {
    "name": "ipython",
    "version": 3
   },
   "file_extension": ".py",
   "mimetype": "text/x-python",
   "name": "python",
   "nbconvert_exporter": "python",
   "pygments_lexer": "ipython3",
   "version": "3.6.9"
  }
 },
 "nbformat": 4,
 "nbformat_minor": 2
}
